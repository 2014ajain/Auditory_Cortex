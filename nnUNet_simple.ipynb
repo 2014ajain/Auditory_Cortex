{
 "cells": [
  {
   "cell_type": "code",
   "execution_count": 1,
   "metadata": {},
   "outputs": [],
   "source": [
    "## Set the environment\n",
    "import os\n",
    "os.environ['nnUNet_raw'] = \"/home/ameen/Aseem_project/nnUNet_raw\"\n",
    "os.environ[\"nnUNet_preprocessed\"] = \"/home/ameen/Aseem_project/nnUNet_preprocessed\"\n",
    "os.environ[\"nnUNet_results\"] = \"/home/ameen/Aseem_project/nnUNet_results\"\n",
    "os.environ['KMP_DUPLICATE_LIB_OK']='True'"
   ]
  },
  {
   "cell_type": "code",
   "execution_count": null,
   "metadata": {},
   "outputs": [],
   "source": [
    "## Pre process/normalize the data, data set name is 145\n",
    "!nnUNetv2_plan_and_preprocess -d 145 --verify_dataset_integrity"
   ]
  },
  {
   "cell_type": "code",
   "execution_count": null,
   "metadata": {},
   "outputs": [],
   "source": [
    "## Train on all 5 folds for 2d semantic segmentation\n",
    "for i in range(5):  \n",
    "    !nnUNetv2_train 145 2d {i} -device gpu"
   ]
  },
  {
   "cell_type": "code",
   "execution_count": null,
   "metadata": {},
   "outputs": [],
   "source": [
    "# Run inference on test data \n",
    "inputfolder='/home/ameen/Aseem_project/testdata'\n",
    "outputfolder='/home/ameen/Aseem_project/test'\n",
    "!nnUNetv2_predict -d Dataset145_Cortex -i {inputfolder} -o {outputfolder} -f  0 1 2 3 4 -tr nnUNetTrainer -c 2d -p nnUNetPlans "
   ]
  }
 ],
 "metadata": {
  "kernelspec": {
   "display_name": "base",
   "language": "python",
   "name": "python3"
  },
  "language_info": {
   "codemirror_mode": {
    "name": "ipython",
    "version": 3
   },
   "file_extension": ".py",
   "mimetype": "text/x-python",
   "name": "python",
   "nbconvert_exporter": "python",
   "pygments_lexer": "ipython3",
   "version": "3.9.13"
  },
  "orig_nbformat": 4
 },
 "nbformat": 4,
 "nbformat_minor": 2
}
